{
  "nbformat": 4,
  "nbformat_minor": 0,
  "metadata": {
    "colab": {
      "name": "ProblmeDuSacADos7.ipynb",
      "provenance": [],
      "collapsed_sections": [],
      "authorship_tag": "ABX9TyPynDVrnSyCwR0cv7QfZ/SG",
      "include_colab_link": true
    },
    "kernelspec": {
      "name": "python3",
      "display_name": "Python 3"
    },
    "language_info": {
      "name": "python"
    }
  },
  "cells": [
    {
      "cell_type": "markdown",
      "metadata": {
        "id": "view-in-github",
        "colab_type": "text"
      },
      "source": [
        "<a href=\"https://colab.research.google.com/github/tafataghiles/Probleme-du-sac-dos/blob/main/ProblmeDuSacADos7.ipynb\" target=\"_parent\"><img src=\"https://colab.research.google.com/assets/colab-badge.svg\" alt=\"Open In Colab\"/></a>"
      ]
    },
    {
      "cell_type": "markdown",
      "metadata": {
        "id": "ii15S8J0-RhB"
      },
      "source": [
        "**Dictionaire**\n",
        "* Nom de l'objet\n",
        "* Valeur de l'objet\n",
        "* Masse de l'objet\n",
        "* Salut"
      ]
    },
    {
      "cell_type": "code",
      "metadata": {
        "id": "O4vuIpZQa6jJ"
      },
      "source": [
        "import time\n",
        "import random\n",
        "import matplotlib.pyplot as plt\n",
        "from statistics import *\n",
        "import seaborn as sns"
      ],
      "execution_count": 146,
      "outputs": []
    },
    {
      "cell_type": "code",
      "metadata": {
        "id": "JeUCHlZgVeuq"
      },
      "source": [
        " \n",
        "def GenererDic(n):\n",
        "  \n",
        "  dic1=[{\"nom\":str(0),\"valeur\":str(random.randint(1,500)),\"masse\":str(random.randint(1,100))}]\n",
        "  dicv=[]\n",
        "  for i in range(n):\n",
        "    dic1=[{\"nom\":str(i),\"valeur\":str(random.randint(1,500)),\"masse\":str(random.randint(1,100))}]\n",
        "    dicv=dicv+dic1\n",
        "  return dicv\n",
        "\n"
      ],
      "execution_count": 234,
      "outputs": []
    },
    {
      "cell_type": "code",
      "metadata": {
        "id": "XS8ZkWZ0veuD"
      },
      "source": [
        "#liste_objets=[{\"nom\":\"A\", \"valeur\":\"1\", \"masse\":\"1\"},{\"nom\":\"B\", \"valeur\":\"6\", \"masse\":\"2\"},{\"nom\":\"C\", \"valeur\":\"10\", \"masse\":\"3\"},{\"nom\":\"D\", \"valeur\":\"16\", \"masse\":\"5\"}]       "
      ],
      "execution_count": 228,
      "outputs": []
    },
    {
      "cell_type": "markdown",
      "metadata": {
        "id": "5uyHaeM2D-CC"
      },
      "source": [
        "**La fonction Ajout_Ratio():**\n",
        "  Permet de calculer la l'utilité massique ui/mi et de le rajouter a notre dictionnaire \n"
      ]
    },
    {
      "cell_type": "code",
      "metadata": {
        "id": "kQWZeY1sC78H"
      },
      "source": [
        "#on rajoute a notre liste_objets le ratio ui/mi\n",
        "def Ajout_Ratio(liste_objets):\n",
        "  for objet in liste_objets:\n",
        "    objet[\"u_m\"]=eval(objet[\"valeur\"])/eval(objet[\"masse\"])\n",
        "  return liste_objets"
      ],
      "execution_count": 237,
      "outputs": []
    },
    {
      "cell_type": "markdown",
      "metadata": {
        "id": "Vgnz2kFd84a7"
      },
      "source": [
        "**Tester si le poids totatl des élément rangés dans le sac ne depasse pas la capcité du sac**"
      ]
    },
    {
      "cell_type": "code",
      "metadata": {
        "id": "R2a6v-o_9Q2J"
      },
      "source": [
        ""
      ],
      "execution_count": null,
      "outputs": []
    },
    {
      "cell_type": "code",
      "metadata": {
        "id": "EPlEXZkp82VV"
      },
      "source": [
        "def TestU(Pt,Capacite,liste_objets):\n",
        "\n",
        "  for objet in liste_objets:\n",
        "    assert eval(objet[\"masse\"]), 'la masse ne pas être inferieur à '\n",
        "  assert Pt>Capacite,'La somme des poids dans le sac ne doit pas depassé la capacité du sac'\n"
      ],
      "execution_count": 238,
      "outputs": []
    },
    {
      "cell_type": "code",
      "metadata": {
        "id": "Dy0E9Qs3_QYY"
      },
      "source": [
        "# Solution approchée - Algorithme glouton\n",
        "def sacADos_naif(capacite, liste_objets):\n",
        "  \n",
        "    poids_total=0\n",
        "    i=0\n",
        "    Ajout_Ratio(liste_objets)\n",
        "    #Trier la liste des objets selon l'utilité massique en utilisant la fonction sorted\n",
        "    \n",
        "    liste_objets_T = sorted(liste_objets, key=lambda x: x[\"u_m\"])\n",
        "\n",
        "    #Inverser la liste triée (ordre décroissant)\n",
        "    liste_objets_T.reverse()\n",
        "\n",
        "\n",
        "    Objets_selection = []\n",
        "    poids_total = 0\n",
        "    n= len(liste_objets_T)\n",
        "    for i in range(n):\n",
        "        if eval(liste_objets_T[i][\"masse\"]) + poids_total <= capacite:\n",
        "          poids_total +=eval(liste_objets_T[i][\"masse\"])\n",
        "          Objets_selection.append((liste_objets_T[i][\"nom\"]))\n",
        "    return( Objets_selection),poids_total\n",
        "            "
      ],
      "execution_count": 241,
      "outputs": []
    },
    {
      "cell_type": "code",
      "metadata": {
        "id": "NbVs9QOh3iwz"
      },
      "source": [
        "l,p=sacADos_naif(15,liste_objets)\n"
      ],
      "execution_count": 242,
      "outputs": []
    },
    {
      "cell_type": "code",
      "metadata": {
        "id": "G-ukp-KG_Apm"
      },
      "source": [
        "TestU(p,10,liste_objets)"
      ],
      "execution_count": 244,
      "outputs": []
    },
    {
      "cell_type": "code",
      "metadata": {
        "id": "1740ziV4M-gX"
      },
      "source": [
        "def ListXY(n):\n",
        "\n",
        "  x=[]\n",
        "  y=[]\n",
        "  k=n\n",
        "  for i in range (n):\n",
        "  \n",
        "    liste_objets=(GenererDic(k))\n",
        "    start_time = time.time()\n",
        "    sacADos_naif(k, liste_objets)\n",
        "    end_time=time.time()\n",
        "    k=k+100\n",
        "    y.append(end_time-start_time)\n",
        "    x.append(k)\n",
        "    #print(end_time-start_time)\n",
        "  return x,y\n",
        "  \n",
        "\n"
      ],
      "execution_count": 245,
      "outputs": []
    },
    {
      "cell_type": "code",
      "metadata": {
        "id": "cQtUZeX0uqGx"
      },
      "source": [
        "X,Y=ListXY(10)"
      ],
      "execution_count": 246,
      "outputs": []
    },
    {
      "cell_type": "code",
      "metadata": {
        "id": "mnXY1EdylfQs"
      },
      "source": [
        "def AfficherGraphe(n):\n",
        "  X,Y=ListXY(n)\n",
        "  sns.set_theme(style=\"whitegrid\")\n",
        "  ax=sns.lineplot(Y, X)\n",
        "  ax.set(xlabel='temps dexecution', ylabel='taille du problème')\n",
        "  plt.show()\n"
      ],
      "execution_count": 247,
      "outputs": []
    },
    {
      "cell_type": "code",
      "metadata": {
        "colab": {
          "base_uri": "https://localhost:8080/",
          "height": 509
        },
        "id": "oZol6guJvGdS",
        "outputId": "5b0c25ef-5761-41f4-e746-5327bf85fbdc"
      },
      "source": [
        "AfficherGraphe(100)"
      ],
      "execution_count": 155,
      "outputs": [
        {
          "output_type": "stream",
          "name": "stdout",
          "text": [
            "0.002084016799926758\n",
            "0.0037767887115478516\n",
            "0.003452301025390625\n",
            "0.0045926570892333984\n",
            "0.006036043167114258\n",
            "0.007048606872558594\n",
            "0.012281656265258789\n",
            "0.009405136108398438\n",
            "0.010373115539550781\n",
            "0.012926816940307617\n"
          ]
        },
        {
          "output_type": "stream",
          "name": "stderr",
          "text": [
            "/usr/local/lib/python3.7/dist-packages/seaborn/_decorators.py:43: FutureWarning: Pass the following variables as keyword args: x, y. From version 0.12, the only valid positional argument will be `data`, and passing other arguments without an explicit keyword will result in an error or misinterpretation.\n",
            "  FutureWarning\n"
          ]
        },
        {
          "output_type": "display_data",
          "data": {
            "image/png": "[encoded data removed]",
            "text/plain": [
              "<Figure size 432x288 with 1 Axes>"
            ]
          },
          "metadata": {}
        }
      ]
    }
  ]
}