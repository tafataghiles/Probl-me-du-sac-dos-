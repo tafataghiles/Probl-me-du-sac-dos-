{
  "nbformat": 4,
  "nbformat_minor": 0,
  "metadata": {
    "colab": {
      "name": "ProblmeDuSacADos7.ipynb",
      "provenance": [],
      "collapsed_sections": [],
      "authorship_tag": "ABX9TyNOchzQOjS/ruMMtHu9Fvf3",
      "include_colab_link": true
    },
    "kernelspec": {
      "name": "python3",
      "display_name": "Python 3"
    },
    "language_info": {
      "name": "python"
    }
  },
  "cells": [
    {
      "cell_type": "markdown",
      "metadata": {
        "id": "view-in-github",
        "colab_type": "text"
      },
      "source": [
        "<a href=\"https://colab.research.google.com/github/tafat1566/Probleme-du-sac-dos/blob/main/ProblmeDuSacADos7.ipynb\" target=\"_parent\"><img src=\"https://colab.research.google.com/assets/colab-badge.svg\" alt=\"Open In Colab\"/></a>"
      ]
    },
    {
      "cell_type": "code",
      "metadata": {
        "id": "O4vuIpZQa6jJ"
      },
      "source": [
        "import time\n",
        "import random\n",
        "import matplotlib.pyplot as plt\n",
        "from statistics import *\n",
        "import seaborn as sns\n",
        "import numpy as np"
      ],
      "execution_count": 1,
      "outputs": []
    },
    {
      "cell_type": "markdown",
      "metadata": {
        "id": "5QPShZuNDnNa"
      },
      "source": [
        "**Cette fonction permet de générer aléatoirement un diction qui se compose de :**\n",
        "* Nom de l'objet\n",
        "* Valeur de l'objet\n",
        "* Masse de l'objet"
      ]
    },
    {
      "cell_type": "code",
      "metadata": {
        "id": "JeUCHlZgVeuq"
      },
      "source": [
        " \n",
        "def GenererDic(n):\n",
        "  \n",
        "  dic1=[{\"nom\":str(0),\"valeur\":str(random.randint(100,500)),\"masse\":str(random.randint(1,100))}]\n",
        "  dicv=[]\n",
        "  for i in range(n):\n",
        "    dic1=[{\"nom\":str(i),\"valeur\":str(random.randint(100,500)),\"masse\":str(random.randint(1,100))}]\n",
        "    dicv=dicv+dic1\n",
        "  return dicv\n",
        "\n"
      ],
      "execution_count": 2,
      "outputs": []
    },
    {
      "cell_type": "code",
      "source": [
        ""
      ],
      "metadata": {
        "id": "PIdHXdFWjYfM"
      },
      "execution_count": null,
      "outputs": []
    },
    {
      "cell_type": "code",
      "metadata": {
        "id": "XS8ZkWZ0veuD"
      },
      "source": [
        "k=[{\"nom\":\"A\", \"valeur\":\"1\", \"masse\":\"1\"},{\"nom\":\"B\", \"valeur\":\"6\", \"masse\":\"2\"},{\"nom\":\"C\", \"valeur\":\"10\", \"masse\":\"3\"},{\"nom\":\"D\", \"valeur\":\"16\", \"masse\":\"5\"}]       "
      ],
      "execution_count": 6,
      "outputs": []
    },
    {
      "cell_type": "code",
      "source": [
        "len(k)"
      ],
      "metadata": {
        "colab": {
          "base_uri": "https://localhost:8080/"
        },
        "id": "bENjpxPTgRiT",
        "outputId": "865ea53a-e933-45ed-967c-1313fb3a0dc0"
      },
      "execution_count": 7,
      "outputs": [
        {
          "output_type": "execute_result",
          "data": {
            "text/plain": [
              "4"
            ]
          },
          "metadata": {},
          "execution_count": 7
        }
      ]
    },
    {
      "cell_type": "code",
      "source": [
        "for i in range (4):\n",
        "  print(eval(k[i][\"masse\"]))"
      ],
      "metadata": {
        "id": "Llolb3ShjWDs",
        "colab": {
          "base_uri": "https://localhost:8080/"
        },
        "outputId": "955fef11-9604-4523-b48f-a6ce5603e101"
      },
      "execution_count": 5,
      "outputs": [
        {
          "output_type": "stream",
          "name": "stdout",
          "text": [
            "1\n",
            "2\n",
            "3\n",
            "5\n"
          ]
        }
      ]
    },
    {
      "cell_type": "code",
      "source": [
        ""
      ],
      "metadata": {
        "id": "l5KTPibqjfYW"
      },
      "execution_count": null,
      "outputs": []
    },
    {
      "cell_type": "code",
      "source": [
        ""
      ],
      "metadata": {
        "id": "D5s-uEXBjkd-"
      },
      "execution_count": null,
      "outputs": []
    },
    {
      "cell_type": "markdown",
      "metadata": {
        "id": "5uyHaeM2D-CC"
      },
      "source": [
        "**La fonction Ajout_Ratio():**\n",
        "  Permet de calculer la l'utilité massique ui/mi et de le rajouter a notre dictionnaire \n"
      ]
    },
    {
      "cell_type": "code",
      "metadata": {
        "id": "kQWZeY1sC78H"
      },
      "source": [
        "#on rajoute a notre liste_objets le ratio ui/mi\n",
        "def Ajout_Ratio(liste_objets):\n",
        "  for objet in liste_objets:\n",
        "    objet[\"u_m\"]=eval(objet[\"valeur\"])/eval(objet[\"masse\"])\n",
        "  return liste_objets"
      ],
      "execution_count": 8,
      "outputs": []
    },
    {
      "cell_type": "markdown",
      "metadata": {
        "id": "Vgnz2kFd84a7"
      },
      "source": [
        "**Cette fonction permet d'effectuer les tests unitaire**"
      ]
    },
    {
      "cell_type": "code",
      "metadata": {
        "id": "EPlEXZkp82VV"
      },
      "source": [
        "def TestU(Pt,Capacite,liste_objets):\n",
        "\n",
        "  for objet in liste_objets:\n",
        "    assert eval(objet[\"masse\"])<0, 'la masse ne pas être inferieur à zero'\n",
        "  assert Pt>Capacite,'La somme des poids dans le sac ne doit pas depassé la capacité du sac'\n"
      ],
      "execution_count": null,
      "outputs": []
    },
    {
      "cell_type": "markdown",
      "metadata": {
        "id": "4jOMkaclEOFb"
      },
      "source": [
        "**Solution approchée - Algorithme glouton**"
      ]
    },
    {
      "cell_type": "code",
      "metadata": {
        "id": "Dy0E9Qs3_QYY"
      },
      "source": [
        "# Solution approchée - Algorithme glouton\n",
        "def sacADos_naif(capacite, liste_objets):\n",
        "  \n",
        "    poids_total=0\n",
        "    i=0\n",
        "    Ajout_Ratio(liste_objets)\n",
        "    #Trier la liste des objets selon l'utilité massique en utilisant la fonction sorted\n",
        "    \n",
        "    liste_objets_T = sorted(liste_objets, key=lambda x: x[\"u_m\"])\n",
        "\n",
        "    #Inverser la liste triée (ordre décroissant)\n",
        "    liste_objets_T.reverse()\n",
        "\n",
        "\n",
        "    Objets_selection = []\n",
        "    poids_total = 0\n",
        "    n= len(liste_objets_T)\n",
        "    for i in range(n):\n",
        "        if eval(liste_objets_T[i][\"masse\"]) + poids_total <= capacite:\n",
        "          poids_total +=eval(liste_objets_T[i][\"masse\"])\n",
        "          Objets_selection.append((liste_objets_T[i]))\n",
        "    return poids_total,( Objets_selection)\n",
        "            "
      ],
      "execution_count": null,
      "outputs": []
    },
    {
      "cell_type": "markdown",
      "metadata": {
        "id": "MjnmOzGK87ek"
      },
      "source": [
        "**Méthode Brute orce** "
      ]
    },
    {
      "cell_type": "code",
      "source": [
        "# Solution force brute - Recherche de toutes les solutions\n",
        "def sacADos_force_brute(capacite, elements, elements_selection = []):\n",
        "  # condition d'arret, s'il n'y a aucun élément à traitre \n",
        "    if elements:\n",
        "      # on va pas rjouter l'élément courant \n",
        "        val1, lstVal1 = sacADos_force_brute(capacite, elements[1:], elements_selection)\n",
        "        val = elements[0]\n",
        "        if eval(val[\"masse\"]) <= capacite:\n",
        "            val2, lstVal2 = sacADos_force_brute(capacite - eval(val[\"masse\"]), elements[1:], elements_selection + [val])\n",
        "            if val1 < val2:\n",
        "                return val2, lstVal2\n",
        "\n",
        "        return val1, lstVal1\n",
        "    else:\n",
        "        return sum([eval(i[\"masse\"])for i in elements_selection]), elements_selection\n",
        "      \n",
        "\n"
      ],
      "metadata": {
        "id": "1LmGBmjrkB42"
      },
      "execution_count": null,
      "outputs": []
    },
    {
      "cell_type": "markdown",
      "source": [
        "**Méthode de programation dynamique**"
      ],
      "metadata": {
        "id": "UQOh9LlhdnCh"
      }
    },
    {
      "cell_type": "code",
      "source": [
        "def sacADos_dynamique(capacite, elements):\n",
        "    matrice = [[0 for x in range(capacite + 1)] for x in range(len(elements) + 1)]\n",
        "    #matrice=np.zeros((capacite + 1,len(elements) + 1))\n",
        "    #print(matrice)\n",
        "    for i in range(1, len(elements) + 1):\n",
        "        for w in range(1, capacite + 1):\n",
        "            if eval(elements[i-1][\"masse\"]) <= w:\n",
        "                matrice[i][w] = max(eval(elements[i-1][\"valeur\"]) + matrice[i-1][w-eval(elements[i-1][\"masse\"])], matrice[i-1][w])\n",
        "            else:\n",
        "                matrice[i][w] = matrice[i-1][w]\n",
        "\n",
        "    # Retrouver les éléments en fonction de la somme\n",
        "    #print(matrice)\n",
        "    w = capacite\n",
        "    n = len(elements)\n",
        "    elements_selection = []\n",
        "\n",
        "    while w >= 0 and n >= 0:\n",
        "        e = elements[n-1]\n",
        "        if matrice[n][w] == matrice[n-1][w-eval(e[\"masse\"])] + eval(e[\"valeur\"]):\n",
        "            elements_selection.append(e)\n",
        "            w -= eval(e[\"masse\"])\n",
        "\n",
        "        n -= 1\n",
        "\n",
        "    return sum([eval(i[\"masse\"])for i in elements_selection]),elements_selection"
      ],
      "metadata": {
        "id": "tdZLAXLTkcvt"
      },
      "execution_count": null,
      "outputs": []
    },
    {
      "cell_type": "markdown",
      "source": [
        "**Tests de validitées et tests unitaires**\n",
        "\n",
        "Cette fonction permet de tester la correction et l'effecacité des resultats\n"
      ],
      "metadata": {
        "id": "iFYt7Cf5HVf9"
      }
    },
    {
      "cell_type": "code",
      "source": [
        ""
      ],
      "metadata": {
        "id": "iO2nRci1dy5k"
      },
      "execution_count": null,
      "outputs": []
    },
    {
      "cell_type": "code",
      "source": [
        "def TestsValiditees(PoidsMax,liste_objets):\n",
        "  \n",
        "  Pn,RNaif=sacADos_naif(PoidsMax,liste_objets)\n",
        "  Pb,RBF=sacADos_force_brute(PoidsMax,liste_objets)\n",
        "  Pd,RDy=sacADos_dynamique(PoidsMax,liste_objets)\n",
        "\n",
        "  print(\"Poid total des Objets choisit par Algo Naif--->\",Pn,\",Liste des objets:\",Pn,RNaif)\n",
        "  print(\"Poid total des Objets choisit par Algo Brut Force--->\",Pb,\",Liste des objets:\",RBF)\n",
        "  print(\"Poid total des Objets choisitpar Algo dynamique--->\",Pd,\",Liste des objets choisit:\",RDy)\n",
        "  \n",
        "  #Tests Unitaires\n",
        "\n",
        "  assert len(liste_objets) != 0,'La liste dobjets ne doit pas etre vide'\n",
        "  for objet in liste_objets:\n",
        "    assert eval(objet[\"masse\"])>0, 'la masse ne pas être inferieur à zero'\n",
        "  assert Pn<PoidsMax or Pb<PoidsMax or Pb<PoidsMax ,'La somme des poids dans le sac ne doit pas depassé la capacité du sac'\n",
        "  assert Pn<Pb,'Algo de brute force nest pas efficace' \n",
        "  assert Pn<Pd,'Algo de dynamique nest pas efficace' \n",
        "\n",
        "\n"
      ],
      "metadata": {
        "id": "18slLF4Dj8lx"
      },
      "execution_count": null,
      "outputs": []
    },
    {
      "cell_type": "code",
      "source": [
        "x=GenererDic(5)"
      ],
      "metadata": {
        "id": "Hc0BCMe_Q-uL"
      },
      "execution_count": null,
      "outputs": []
    },
    {
      "cell_type": "code",
      "source": [
        "TestsValiditees(7,k)"
      ],
      "metadata": {
        "colab": {
          "base_uri": "https://localhost:8080/"
        },
        "id": "M8PUAtiOIdZ_",
        "outputId": "b8b2ee61-0565-4058-bd11-6c05fd881348"
      },
      "execution_count": null,
      "outputs": [
        {
          "output_type": "stream",
          "name": "stdout",
          "text": [
            "Poid total des Objets choisit par Algo Naif---> 6 ,Liste des objets: 6 [{'nom': 'C', 'valeur': '10', 'masse': '3', 'u_m': 3.3333333333333335}, {'nom': 'B', 'valeur': '6', 'masse': '2', 'u_m': 3.0}, {'nom': 'A', 'valeur': '1', 'masse': '1', 'u_m': 1.0}]\n",
            "Poid total des Objets choisit par Algo Brut Force---> 7 ,Liste des objets: [{'nom': 'B', 'valeur': '6', 'masse': '2', 'u_m': 3.0}, {'nom': 'D', 'valeur': '16', 'masse': '5', 'u_m': 3.2}]\n",
            "Poid total des Objets choisitpar Algo dynamique---> 7 ,Liste des objets choisit: [{'nom': 'D', 'valeur': '16', 'masse': '5', 'u_m': 3.2}, {'nom': 'B', 'valeur': '6', 'masse': '2', 'u_m': 3.0}]\n"
          ]
        }
      ]
    },
    {
      "cell_type": "code",
      "metadata": {
        "id": "1740ziV4M-gX"
      },
      "source": [
        "def ListXYN(n,k):\n",
        "\n",
        "  x=[]\n",
        "  y=[]\n",
        "  #k=n\n",
        "  for i in range (n):\n",
        "  \n",
        "    liste_objets=(GenererDic(k))\n",
        "    start_time = time.time()\n",
        "    sacADos_naif(k, liste_objets)\n",
        "    end_time=time.time()\n",
        "    k=k+100\n",
        "    y.append(end_time-start_time)\n",
        "    x.append(k)\n",
        "    #print(\"Naif\",end_time-start_time)\n",
        "  return x,y\n",
        "  \n",
        "\n"
      ],
      "execution_count": null,
      "outputs": []
    },
    {
      "cell_type": "code",
      "source": [
        "def ListXYB(n,k):\n",
        "\n",
        "  x=[]\n",
        "  y=[]\n",
        "  for i in range (n):\n",
        "  \n",
        "    liste_objets=(GenererDic(k))\n",
        "    start_time = time.time()\n",
        "    #sacADos_naif(k, liste_objets)\n",
        "    sacADos_force_brute(k,liste_objets)\n",
        "    end_time=time.time()\n",
        "    k=k+10\n",
        "    y.append(end_time-start_time)\n",
        "    x.append(k)\n",
        "    #print(\"Brute Force *****\",end_time-start_time)\n",
        "  return x,y\n",
        "  \n",
        "\n"
      ],
      "metadata": {
        "id": "cqn-HGSCkj2a"
      },
      "execution_count": null,
      "outputs": []
    },
    {
      "cell_type": "code",
      "source": [
        "def ListXYD(n,k):\n",
        "\n",
        "  x=[]\n",
        "  y=[]\n",
        "  #k=n\n",
        "  for i in range (n):\n",
        "  \n",
        "    liste_objets=(GenererDic(k))\n",
        "    start_time = time.time()\n",
        "    #sacADos_naif(k, liste_objets)\n",
        "    #sacADos_force_brute(6,liste_objets)\n",
        "    sacADos_dynamique(k, liste_objets)\n",
        "    end_time=time.time()\n",
        "    k=k+100\n",
        "    y.append(end_time-start_time)\n",
        "    x.append(k)\n",
        "    #print(\"Dy--->\",end_time-start_time)\n",
        "  return x,y\n",
        "  \n"
      ],
      "metadata": {
        "id": "jDHJO9UWjwD9"
      },
      "execution_count": null,
      "outputs": []
    },
    {
      "cell_type": "markdown",
      "source": [
        "**Fonction Graphe permet d'afficher un graphe ***"
      ],
      "metadata": {
        "id": "UmMF0ZX2i7W2"
      }
    },
    {
      "cell_type": "code",
      "source": [
        "def Graphe(x,y):\n",
        "  sns.set_theme(style=\"whitegrid\")\n",
        "  ax=sns.lineplot(x,y)\n",
        "  ax.set(xlabel=' taille du problème', ylabel='temps dexecution')"
      ],
      "metadata": {
        "id": "UiV7WoYBi6iT"
      },
      "execution_count": null,
      "outputs": []
    },
    {
      "cell_type": "markdown",
      "source": [
        "**Graphe represnte algorithme de Glouton  en fonction de la taille et le temps d'execution**"
      ],
      "metadata": {
        "id": "uYdicudwpGZ-"
      }
    },
    {
      "cell_type": "code",
      "source": [
        "Nombre_it=10\n",
        "# Taille de la liste au début\n",
        "T_Liste=100\n",
        "\n",
        "x,y=ListXYN(Nombre_it,T_Liste)\n",
        "Graphe(x,y)"
      ],
      "metadata": {
        "id": "Xn283Lf4kf8E",
        "colab": {
          "base_uri": "https://localhost:8080/",
          "height": 340
        },
        "outputId": "03d459ca-ab54-4d02-89e2-f02d5b5d96b9"
      },
      "execution_count": null,
      "outputs": [
        {
          "output_type": "stream",
          "name": "stderr",
          "text": [
            "/usr/local/lib/python3.7/dist-packages/seaborn/_decorators.py:43: FutureWarning: Pass the following variables as keyword args: x, y. From version 0.12, the only valid positional argument will be `data`, and passing other arguments without an explicit keyword will result in an error or misinterpretation.\n",
            "  FutureWarning\n"
          ]
        },
        {
          "output_type": "display_data",
          "data": {
            "image/png": "[encoded data removed]",
            "text/plain": [
              "<Figure size 432x288 with 1 Axes>"
            ]
          },
          "metadata": {}
        }
      ]
    },
    {
      "cell_type": "markdown",
      "source": [
        "**Graphe represnte algorithme de Brute Force  en fonction de la taille et le temps d'execution**"
      ],
      "metadata": {
        "id": "jE4CXE7VowZv"
      }
    },
    {
      "cell_type": "code",
      "source": [
        "Nombre_it=7\n",
        "# Taille de la liste au début\n",
        "T_Liste=10\n",
        "bx,by=ListXYB(Nombre_it,T_Liste)\n",
        "Graphe(bx,by)"
      ],
      "metadata": {
        "colab": {
          "base_uri": "https://localhost:8080/",
          "height": 340
        },
        "id": "LAEA0VzJjiS1",
        "outputId": "886f3dce-3fc8-4448-f6a8-dbd8d24cb9ba"
      },
      "execution_count": null,
      "outputs": [
        {
          "output_type": "stream",
          "name": "stderr",
          "text": [
            "/usr/local/lib/python3.7/dist-packages/seaborn/_decorators.py:43: FutureWarning: Pass the following variables as keyword args: x, y. From version 0.12, the only valid positional argument will be `data`, and passing other arguments without an explicit keyword will result in an error or misinterpretation.\n",
            "  FutureWarning\n"
          ]
        },
        {
          "output_type": "display_data",
          "data": {
            "image/png": "[encoded data removed]",
            "text/plain": [
              "<Figure size 432x288 with 1 Axes>"
            ]
          },
          "metadata": {}
        }
      ]
    },
    {
      "cell_type": "markdown",
      "source": [
        "**Graphe represente algorithme prog dynamique en fonction de la taille et le temps d'execution**"
      ],
      "metadata": {
        "id": "hwl9dLnVnxRQ"
      }
    },
    {
      "cell_type": "code",
      "metadata": {
        "id": "cQtUZeX0uqGx",
        "colab": {
          "base_uri": "https://localhost:8080/",
          "height": 513
        },
        "outputId": "042358da-83fb-4581-e6e8-f743a1633dc4"
      },
      "source": [
        "Nombre_it=10\n",
        "# Taille de la liste au début\n",
        "T_Liste=100\n",
        "dx,dy=ListXYD(Nombre_it,T_Liste)\n",
        "Graphe(dx,dy)"
      ],
      "execution_count": null,
      "outputs": [
        {
          "output_type": "stream",
          "name": "stdout",
          "text": [
            "Dy---> 0.08902859687805176\n",
            "Dy---> 0.4351997375488281\n",
            "Dy---> 1.0397183895111084\n",
            "Dy---> 1.914712905883789\n",
            "Dy---> 2.945312023162842\n",
            "Dy---> 4.34386420249939\n",
            "Dy---> 5.955500602722168\n",
            "Dy---> 7.840635299682617\n",
            "Dy---> 9.94585132598877\n",
            "Dy---> 12.323992729187012\n"
          ]
        },
        {
          "output_type": "stream",
          "name": "stderr",
          "text": [
            "/usr/local/lib/python3.7/dist-packages/seaborn/_decorators.py:43: FutureWarning: Pass the following variables as keyword args: x, y. From version 0.12, the only valid positional argument will be `data`, and passing other arguments without an explicit keyword will result in an error or misinterpretation.\n",
            "  FutureWarning\n"
          ]
        },
        {
          "output_type": "display_data",
          "data": {
            "image/png": "[encoded data removed]",
            "text/plain": [
              "<Figure size 432x288 with 1 Axes>"
            ]
          },
          "metadata": {}
        }
      ]
    }
  ]
}